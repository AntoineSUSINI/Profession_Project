{
 "cells": [
  {
   "cell_type": "markdown",
   "id": "59ad1182",
   "metadata": {},
   "source": [
    "https://blog.quantinsti.com/heston-model/"
   ]
  },
  {
   "cell_type": "markdown",
   "id": "723fb32d",
   "metadata": {},
   "source": [
    "# Heston 1993 Model"
   ]
  },
  {
   "cell_type": "markdown",
   "id": "95244aef",
   "metadata": {},
   "source": [
    "## Vanilla Option "
   ]
  },
  {
   "cell_type": "code",
   "execution_count": 45,
   "id": "1f2b0eb5",
   "metadata": {},
   "outputs": [],
   "source": [
    "import numpy as np\n",
    "\n",
    "def heston_charfunc(u, params):\n",
    "    S0   = params[\"S0\"]\n",
    "    K    = params[\"K\"]\n",
    "    r    = params[\"r\"]\n",
    "    q    = params[\"q\"]\n",
    "    v0   = params[\"v0\"]\n",
    "    kappa= params[\"kappa\"]\n",
    "    theta= params[\"theta\"]\n",
    "    sigma= params[\"sigma\"]\n",
    "    rho  = params[\"rho\"]\n",
    "    T    = params[\"T\"]\n",
    "\n",
    "    iu = 1j * u\n",
    "\n",
    "    alpha = -0.5 * (u**2 + iu)\n",
    "    beta  = kappa - rho * sigma * iu\n",
    "    gamma = 0.5 * sigma**2\n",
    "\n",
    "    d = np.sqrt(beta**2 - 4.0 * alpha * gamma)\n",
    "    g = (beta - d) / (beta + d)\n",
    "\n",
    "    exp_dT = np.exp(-d * T)\n",
    "\n",
    "    C = (r - q) * iu * T + \\\n",
    "        (kappa * theta / gamma) * ((beta - d) * T - 2.0 * np.log((1.0 - g * exp_dT) / (1.0 - g)))\n",
    "\n",
    "    D = (beta - d) / gamma * ((1.0 - exp_dT) / (1.0 - g * exp_dT))\n",
    "\n",
    "    return np.exp(C + D * v0 + iu * np.log(S0 * np.exp(-q * T)))\n",
    "\n",
    "\n",
    "def heston_price_call_fft(params, N=10000, U_max=1000):\n",
    "\n",
    "    S0 = params[\"S0\"]\n",
    "    r  = params[\"r\"]\n",
    "    q  = params[\"q\"]\n",
    "    T  = params[\"T\"]\n",
    "    K  = params[\"K\"]\n",
    "\n",
    "    if N % 2 == 1:\n",
    "        N += 1\n",
    "\n",
    "    u = np.linspace(1e-10, U_max, N + 1)  # avoid u=0 singularity\n",
    "    du = u[1] - u[0]\n",
    "    lnK = np.log(K)\n",
    "\n",
    "    phi_u     = heston_charfunc(u, params)\n",
    "    phi_u_im1 = heston_charfunc(u - 1j, params)\n",
    "    phi_im1   = heston_charfunc(-1j, params)\n",
    "\n",
    "    integrand_P1 = np.real(np.exp(-1j * u * lnK) * phi_u_im1 /\n",
    "                           (1j * u * phi_im1))\n",
    "    integrand_P2 = np.real(np.exp(-1j * u * lnK) * phi_u /\n",
    "                           (1j * u))\n",
    "\n",
    "    weights = np.ones(N + 1)\n",
    "    weights[1:-1:2] = 4.0\n",
    "    weights[2:-2:2] = 2.0\n",
    "\n",
    "    P1 = 0.5 + (du / (3.0 * np.pi)) * np.sum(weights * integrand_P1)\n",
    "    P2 = 0.5 + (du / (3.0 * np.pi)) * np.sum(weights * integrand_P2)\n",
    "\n",
    "    call = S0 * np.exp(-q * T) * P1 - K * np.exp(-r * T) * P2\n",
    "    put = K*np.exp(-r*T)*(1-P2) - S0*np.exp(-q*T)*(1-P1)\n",
    "    return call, put"
   ]
  },
  {
   "cell_type": "code",
   "execution_count": 62,
   "id": "e0b2cb06",
   "metadata": {},
   "outputs": [
    {
     "name": "stdout",
     "output_type": "stream",
     "text": [
      "Call Price: 237.4693\n",
      "Put Price: 241.2104\n"
     ]
    }
   ],
   "source": [
    "# Example\n",
    "params = {\n",
    "    \"S0\": 3795.74,\n",
    "    \"K\" : 3795.74,\n",
    "    \"r\":  0.014,\n",
    "    \"q\": 0.015,\n",
    "    \"v0\": 0.0112,\n",
    "    \"kappa\": 0.2183,\n",
    "    \"theta\": 0.0601,\n",
    "    \"sigma\": 0.3171,\n",
    "    \"rho\": -0.5250,\n",
    "    \"T\": 1.0\n",
    "}\n",
    "\n",
    "call, put = heston_price_call_fft(params)\n",
    "print(f\"Call Price: {call:.4f}\")\n",
    "print(f\"Put Price: {put:.4f}\")"
   ]
  },
  {
   "cell_type": "code",
   "execution_count": 63,
   "id": "00c8f90b",
   "metadata": {},
   "outputs": [
    {
     "data": {
      "text/plain": [
       "np.float64(242.4783779478173)"
      ]
     },
     "execution_count": 63,
     "metadata": {},
     "output_type": "execute_result"
    }
   ],
   "source": [
    "bs_call_price(3795.74,3795.74,0.014,0.015,0.1639,1.0)"
   ]
  },
  {
   "cell_type": "markdown",
   "id": "576846e9",
   "metadata": {},
   "source": [
    "## Extract Data before calibrating the model"
   ]
  },
  {
   "cell_type": "code",
   "execution_count": 30,
   "id": "fcf6c774",
   "metadata": {},
   "outputs": [
    {
     "name": "stdout",
     "output_type": "stream",
     "text": [
      "         80%      90%      95%    97.5%     100%   102.5%     105%     110%  \\\n",
      "T    3036.59  3416.17  3605.95  3700.85  3795.74  3890.63  3985.53  4175.31   \n",
      "1M     25.29    19.15    15.35    13.70    12.25    11.04    10.71    11.46   \n",
      "2M     24.28    18.46    15.81    14.58    13.43    12.39    11.67    11.52   \n",
      "3M     23.03    18.08    15.96    14.96    14.00    13.10    12.38    11.83   \n",
      "6M     21.93    18.24    16.61    15.85    15.13    14.47    13.86    12.87   \n",
      "9M     21.22    18.35    17.05    16.41    15.79    15.20    14.65    13.71   \n",
      "1Y     21.14    18.61    17.48    16.93    16.39    15.86    15.35    14.43   \n",
      "18M    21.15    19.15    18.18    17.71    17.24    16.79    16.36    15.58   \n",
      "2Y     21.03    19.33    18.51    18.10    17.71    17.33    16.97    16.30   \n",
      "3Y     21.19    19.68    18.95    18.59    18.25    17.91    17.59    16.99   \n",
      "4Y     21.29    19.99    19.36    19.06    18.77    18.49    18.22    17.72   \n",
      "5Y     21.52    20.36    19.82    19.56    19.31    19.06    18.82    18.38   \n",
      "7Y     22.14    21.18    20.74    20.53    20.33    20.13    19.94    19.58   \n",
      "10Y    23.17    22.41    22.06    21.89    21.73    21.57    21.42    21.14   \n",
      "\n",
      "        120%  \n",
      "T    4554.89  \n",
      "1M     13.56  \n",
      "2M     12.55  \n",
      "3M     12.06  \n",
      "6M     12.40  \n",
      "9M     12.72  \n",
      "1Y     13.28  \n",
      "18M    14.39  \n",
      "2Y     15.22  \n",
      "3Y     15.98  \n",
      "4Y     16.84  \n",
      "5Y     17.60  \n",
      "7Y     18.93  \n",
      "10Y    20.62  \n"
     ]
    }
   ],
   "source": [
    "import pandas as pd\n",
    "\n",
    "# 1) On définit d’abord les maturités (index) et les niveaux de strikes (colonnes)\n",
    "maturities = ['T', '1M', '2M', '3M', '6M', '9M', '1Y', '18M', '2Y', '3Y', '4Y', '5Y', '7Y', '10Y']\n",
    "strikes_pct = ['80%', '90%', '95%', '97.5%', '100%', '102.5%', '105%', '110%', '120%']\n",
    "\n",
    "# 2) On crée ensuite la liste des listes « raw » correspondant aux lignes du tableau\n",
    "data = [\n",
    "    # Strike prices (ligne 'T')\n",
    "    [3036.59, 3416.17, 3605.95, 3700.85, 3795.74, 3890.63, 3985.53, 4175.31, 4554.89],\n",
    "    # Valeurs pour 1M\n",
    "    [25.29,   19.15,   15.35,   13.70,   12.25,   11.04,   10.71,   11.46,   13.56],\n",
    "    # 2M\n",
    "    [24.28,   18.46,   15.81,   14.58,   13.43,   12.39,   11.67,   11.52,   12.55],\n",
    "    # 3M\n",
    "    [23.03,   18.08,   15.96,   14.96,   14.00,   13.10,   12.38,   11.83,   12.06],\n",
    "    # 6M\n",
    "    [21.93,   18.24,   16.61,   15.85,   15.13,   14.47,   13.86,   12.87,   12.40],\n",
    "    # 9M\n",
    "    [21.22,   18.35,   17.05,   16.41,   15.79,   15.20,   14.65,   13.71,   12.72],\n",
    "    # 1Y\n",
    "    [21.14,   18.61,   17.48,   16.93,   16.39,   15.86,   15.35,   14.43,   13.28],\n",
    "    # 18M\n",
    "    [21.15,   19.15,   18.18,   17.71,   17.24,   16.79,   16.36,   15.58,   14.39],\n",
    "    # 2Y\n",
    "    [21.03,   19.33,   18.51,   18.10,   17.71,   17.33,   16.97,   16.30,   15.22],\n",
    "    # 3Y\n",
    "    [21.19,   19.68,   18.95,   18.59,   18.25,   17.91,   17.59,   16.99,   15.98],\n",
    "    # 4Y\n",
    "    [21.29,   19.99,   19.36,   19.06,   18.77,   18.49,   18.22,   17.72,   16.84],\n",
    "    # 5Y\n",
    "    [21.52,   20.36,   19.82,   19.56,   19.31,   19.06,   18.82,   18.38,   17.60],\n",
    "    # 7Y\n",
    "    [22.14,   21.18,   20.74,   20.53,   20.33,   20.13,   19.94,   19.58,   18.93],\n",
    "    # 10Y\n",
    "    [23.17,   22.41,   22.06,   21.89,   21.73,   21.57,   21.42,   21.14,   20.62],\n",
    "]\n",
    "\n",
    "# 3) On construit le DataFrame\n",
    "df = pd.DataFrame(data, index=maturities, columns=strikes_pct)\n",
    "\n",
    "# 4) Optionnel : convertir en float (ici déjà float)\n",
    "df = df.astype(float)\n",
    "\n",
    "print(df)\n"
   ]
  },
  {
   "cell_type": "code",
   "execution_count": 36,
   "id": "11ee25f6",
   "metadata": {},
   "outputs": [
    {
     "data": {
      "text/plain": [
       "Index(['80%', '90%', '95%', '97.5%', '100%', '102.5%', '105%', '110%', '120%'], dtype='object')"
      ]
     },
     "execution_count": 36,
     "metadata": {},
     "output_type": "execute_result"
    }
   ],
   "source": [
    "df.columns"
   ]
  },
  {
   "cell_type": "code",
   "execution_count": null,
   "id": "06f28a21",
   "metadata": {},
   "outputs": [],
   "source": []
  },
  {
   "cell_type": "code",
   "execution_count": null,
   "id": "950af4b2",
   "metadata": {},
   "outputs": [],
   "source": []
  },
  {
   "cell_type": "markdown",
   "id": "70150c90",
   "metadata": {},
   "source": [
    "## Calibration"
   ]
  },
  {
   "cell_type": "code",
   "execution_count": 66,
   "id": "42ffb374",
   "metadata": {},
   "outputs": [
    {
     "name": "stdout",
     "output_type": "stream",
     "text": [
      "   Iteration     Total nfev        Cost      Cost reduction    Step norm     Optimality   \n",
      "       0              1         7.2851e+05                                    7.14e+06    \n",
      "       1              2         7.5827e+04      6.53e+05       4.84e-01       6.49e+05    \n",
      "       2              3         1.6182e+04      5.96e+04       3.73e-01       1.58e+05    \n",
      "       3              4         7.9612e+03      8.22e+03       2.52e-02       1.53e+05    \n",
      "       4              5         4.0001e+03      3.96e+03       1.09e+00       9.55e+05    \n",
      "       5              7         2.1285e+03      1.87e+03       7.44e-02       3.60e+05    \n",
      "       6              8         1.9132e+03      2.15e+02       9.11e-02       1.62e+06    \n",
      "       7              9         1.5982e+03      3.15e+02       4.19e-02       4.01e+05    \n",
      "       8             10         1.5508e+03      4.74e+01       6.26e-02       1.04e+06    \n",
      "       9             11         1.4553e+03      9.55e+01       1.52e-02       1.51e+05    \n",
      "      10             12         1.4490e+03      6.29e+00       1.92e-02       1.76e+05    \n",
      "      11             13         1.4469e+03      2.16e+00       1.56e-03       3.31e+03    \n",
      "      12             14         1.4469e+03      1.75e-03       2.75e-04       1.78e+02    \n",
      "      13             15         1.4469e+03      3.04e-05       3.83e-05       5.01e+00    \n",
      "`ftol` termination condition is satisfied.\n",
      "Function evaluations 15, initial cost 7.2851e+05, final cost 1.4469e+03, first-order optimality 5.01e+00.\n",
      "Paramètres calibrés Heston :\n",
      " v0    = 0.0112\n",
      " kappa = 0.2183\n",
      " theta = 0.0601\n",
      " sigma = 0.3171\n",
      " rho   = -0.5250\n"
     ]
    }
   ],
   "source": [
    "import numpy as np\n",
    "import pandas as pd\n",
    "from scipy.optimize import least_squares\n",
    "from scipy.stats import norm\n",
    "\n",
    "# --- 1) Black–Scholes call price pour reconstruire les prix marchés à partir des vols ---\n",
    "\n",
    "def bs_call_price(S, K, r, q, sigma, T):\n",
    "    d1 = (np.log(S/K) + (r - q + 0.5*sigma**2)*T) / (sigma*np.sqrt(T))\n",
    "    d2 = d1 - sigma*np.sqrt(T)\n",
    "    return S*np.exp(-q*T)*norm.cdf(d1) - K*np.exp(-r*T)*norm.cdf(d2)\n",
    "\n",
    "\n",
    "# --- 2) Extraction des données du DataFrame ------------------------------------------------\n",
    "\n",
    "# On suppose que votre df ressemble à ceci (cf. message précédent) :\n",
    "#   - index : maturities (str) avec une ligne 'T' qui contient les strikes\n",
    "#   - colonnes : niveaux de strike en pourcentage ('80%', '90%', …, '120%')\n",
    "#   - df.loc['T', k] = strike absolu ; df.loc[maturity, k] = vol implicite\n",
    "\n",
    "# Constantes connues\n",
    "S0 = 3795.74\n",
    "r  = 0.014   # 1.40% continu\n",
    "q  = 0.015   # 1.50% continu\n",
    "\n",
    "# Conversion des labels de maturités en années\n",
    "def maturity_to_T(label):\n",
    "    if label == 'T':\n",
    "        return None\n",
    "    if label.endswith('M'):\n",
    "        return int(label[:-1]) / 12.0\n",
    "    if label.endswith('Y'):\n",
    "        return float(label[:-1])\n",
    "    raise ValueError(label)\n",
    "\n",
    "# Construction d’une liste de points marché (T, K, prix_call)\n",
    "market_data = []\n",
    "strikes_abs = df.loc['T']  # Série indexée par '80%',…,'120%'\n",
    "for mat in df.index:\n",
    "    T = maturity_to_T(mat)\n",
    "    if T is None:\n",
    "        continue\n",
    "    for pct in df.columns:\n",
    "        K      = strikes_abs[pct]\n",
    "        vol_imp= df.loc[mat, pct]/100.0  # en pourcentage\n",
    "        price  = bs_call_price(S0, K, r, q, vol_imp, T)\n",
    "        market_data.append((T, K, price))\n",
    "\n",
    "market_data = np.array(market_data, \n",
    "                       dtype=[('T', float), ('K', float), ('price', float)])\n",
    "\n",
    "\n",
    "# --- 3) Fonction objectif pour l’optimiseur -----------------------------------------------\n",
    "\n",
    "def pack_params(x):\n",
    "    \"\"\"Dépaquète le vecteur x en dictionnaire de paramètres Heston.\"\"\"\n",
    "    return {\n",
    "        \"S0\":   S0,\n",
    "        \"r\":    r,\n",
    "        \"q\":    q,\n",
    "        \"v0\":   x[0],\n",
    "        \"kappa\":x[1],\n",
    "        \"theta\":x[2],\n",
    "        \"sigma\":x[3],\n",
    "        \"rho\":  x[4],\n",
    "    }\n",
    "\n",
    "def residuals(x):\n",
    "    \"\"\"Retourne les écarts modèle – marché pour chaque point de la surface.\"\"\"\n",
    "    params_base = pack_params(x)\n",
    "    res = []\n",
    "    for T, K, mkt_price in market_data:\n",
    "        params = params_base.copy()\n",
    "        params.update({\"T\": T, \"K\": K})\n",
    "        model_call, _ = heston_price_call_fft(params, N=1000, U_max=2000)\n",
    "        res.append(model_call - mkt_price)\n",
    "    return np.array(res)\n",
    "\n",
    "\n",
    "# --- 4) Calibration par moindres carrés non‑linéaires -------------------------------------\n",
    "\n",
    "# 4.1) Initial guess and bounds\n",
    "x0 = np.array([\n",
    "    0.04,    # v0\n",
    "    1.0,     # kappa\n",
    "    0.04,    # theta\n",
    "    0.5,     # sigma\n",
    "    -0.5,    # rho\n",
    "])\n",
    "\n",
    "# on impose rho ∈ [−0.999, 0.999] et les autres ≥ 0\n",
    "lb = [1e-4, 1e-4, 1e-4, 1e-4, -0.999]\n",
    "ub = [2.0, 10.0, 2.0, 5.0, 0.999]\n",
    "\n",
    "opt = least_squares(\n",
    "    residuals,\n",
    "    x0,\n",
    "    bounds=(lb, ub),\n",
    "    verbose=2,\n",
    "    xtol=1e-6,\n",
    "    ftol=1e-6,\n",
    "    max_nfev=200\n",
    ")\n",
    "\n",
    "# 4.2) Résultats\n",
    "v0_fit, kappa_fit, theta_fit, sigma_fit, rho_fit = opt.x\n",
    "print(\"Paramètres calibrés Heston :\")\n",
    "print(f\" v0    = {v0_fit:.4f}\")\n",
    "print(f\" kappa = {kappa_fit:.4f}\")\n",
    "print(f\" theta = {theta_fit:.4f}\")\n",
    "print(f\" sigma = {sigma_fit:.4f}\")\n",
    "print(f\" rho   = {rho_fit:.4f}\")\n"
   ]
  },
  {
   "cell_type": "code",
   "execution_count": 68,
   "id": "62ed8bfc",
   "metadata": {},
   "outputs": [
    {
     "name": "stdout",
     "output_type": "stream",
     "text": [
      "Prix Black-Sholes, M=1Y, S=100%: 242.4783779478173\n",
      "Prix Heston, M=1Y, S=100%: 237.43623474640322\n"
     ]
    }
   ],
   "source": [
    "# Test de la calibration\n",
    "# On compare les prix Heston et Black-Scholes\n",
    "print(\"Prix Black-Sholes, M=1Y, S=100%:\", bs_call_price(3795.74,3795.74,0.014,0.015,0.1639,1.0))\n",
    "params = {\n",
    "    \"S0\": 3795.74,\n",
    "    \"K\" : 3795.74,\n",
    "    \"r\":  0.014,\n",
    "    \"q\": 0.015,\n",
    "    \"v0\": 0.0112,\n",
    "    \"kappa\": 0.2183,\n",
    "    \"theta\": 0.0601,\n",
    "    \"sigma\": 0.3171,\n",
    "    \"rho\": -0.5250,\n",
    "    \"T\": 1.0\n",
    "}\n",
    "\n",
    "call, _ = heston_price_call_fft(params)\n",
    "print(\"Prix Heston, M=1Y, S=100%:\", heston_price_call_fft(params, N=1000, U_max=2000)[0])"
   ]
  },
  {
   "cell_type": "markdown",
   "id": "68edb352",
   "metadata": {},
   "source": [
    "# Heston Bates 1996"
   ]
  },
  {
   "cell_type": "code",
   "execution_count": null,
   "id": "ac857b73",
   "metadata": {},
   "outputs": [],
   "source": []
  }
 ],
 "metadata": {
  "kernelspec": {
   "display_name": "tf",
   "language": "python",
   "name": "python3"
  },
  "language_info": {
   "codemirror_mode": {
    "name": "ipython",
    "version": 3
   },
   "file_extension": ".py",
   "mimetype": "text/x-python",
   "name": "python",
   "nbconvert_exporter": "python",
   "pygments_lexer": "ipython3",
   "version": "3.11.11"
  }
 },
 "nbformat": 4,
 "nbformat_minor": 5
}
