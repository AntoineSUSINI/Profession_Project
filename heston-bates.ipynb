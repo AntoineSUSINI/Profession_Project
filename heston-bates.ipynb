{
 "cells": [
  {
   "cell_type": "code",
   "execution_count": 2,
   "id": "9d7b8022",
   "metadata": {},
   "outputs": [],
   "source": [
    "import numpy as np\n",
    "import pandas as pd"
   ]
  },
  {
   "cell_type": "code",
   "execution_count": 11,
   "id": "92ede077",
   "metadata": {},
   "outputs": [],
   "source": [
    "def heston_bates_charfunc(u, params):\n",
    "    S0    = params[\"S0\"]\n",
    "    K     = params[\"K\"]\n",
    "    r     = params[\"r\"]\n",
    "    q     = params[\"q\"]\n",
    "    λ     = params[\"lambda\"]\n",
    "    μJ    = params[\"muJ\"]\n",
    "    δJ    = params[\"deltaJ\"]\n",
    "    v0    = params[\"v0\"]\n",
    "    kappa = params[\"kappa\"]\n",
    "    theta = params[\"theta\"]\n",
    "    sigma = params[\"sigma\"]\n",
    "    rho   = params[\"rho\"]\n",
    "    T     = params[\"T\"]\n",
    "\n",
    "    iu = 1j * u\n",
    "\n",
    "    # —— Heston core (unchanged) ——\n",
    "    alpha = -0.5 * (u**2 + iu)\n",
    "    beta  = kappa - rho * sigma * iu\n",
    "    gamma = 0.5 * sigma**2\n",
    "    d     = np.sqrt(beta**2 - 4.0 * alpha * gamma)\n",
    "    g     = (beta - d) / (beta + d)\n",
    "    exp_dT = np.exp(-d * T)\n",
    "    C = ((kappa*theta/gamma)*((beta-d)*T - 2*np.log((1 - g*exp_dT)/(1 - g))))\n",
    "    D = ((beta-d)/gamma) * ((1-exp_dT)/(1-g*exp_dT))\n",
    "\n",
    "\n",
    "    # —— Adjust drift for jumps ——\n",
    "    r_tilde = r - q - λ*(np.exp(μJ + 0.5*δJ**2) - 1)\n",
    "    drift  = r_tilde * iu * T\n",
    "\n",
    "    # —— Bates jump‐part ——\n",
    "    jump_cf   = np.exp(iu*μJ - 0.5*(u**2)*δJ**2)\n",
    "    jump_term = λ * T * (jump_cf - 1)\n",
    "\n",
    "    C = drift + C + jump_term\n",
    "\n",
    "    return np.exp(C + D * v0 + iu * np.log(S0 * np.exp(-q * T)))\n",
    "\n",
    "def heston_price_call_fft_bates(params, N=10000, U_max=1000):\n",
    "    S0 = params[\"S0\"]\n",
    "    r  = params[\"r\"]\n",
    "    q  = params[\"q\"]\n",
    "    T  = params[\"T\"]\n",
    "    K  = params[\"K\"]\n",
    "\n",
    "    if N % 2 == 1:\n",
    "        N += 1\n",
    "\n",
    "    u = np.linspace(1e-10, U_max, N + 1)\n",
    "    du = u[1] - u[0]\n",
    "\n",
    "    lnK = np.log(K)\n",
    "    phi_u     = heston_bates_charfunc(u, params)\n",
    "    phi_u_im1 = heston_bates_charfunc(u - 1j, params)\n",
    "    phi_im1   = heston_bates_charfunc(-1j, params)\n",
    "\n",
    "    integrand_P1 = np.real(np.exp(-1j * u * lnK) * phi_u_im1 / (1j * u * phi_im1))\n",
    "    integrand_P2 = np.real(np.exp(-1j * u * lnK) * phi_u / (1j * u))\n",
    "\n",
    "    weights = np.ones(N + 1)\n",
    "    weights[1:-1:2] = 4.0\n",
    "    weights[2:-2:2] = 2.0\n",
    "\n",
    "    P1 = 0.5 + (du / (3.0 * np.pi)) * np.sum(weights * integrand_P1)\n",
    "    P2 = 0.5 + (du / (3.0 * np.pi)) * np.sum(weights * integrand_P2)\n",
    "\n",
    "    call = S0 * np.exp(-q * T) * P1 - K * np.exp(-r * T) * P2\n",
    "    put  = K * np.exp(-r * T) * (1 - P2) - S0 * np.exp(-q * T) * (1 - P1)\n",
    "\n",
    "    return call, put\n"
   ]
  },
  {
   "cell_type": "code",
   "execution_count": 14,
   "id": "76d6a3e8",
   "metadata": {},
   "outputs": [
    {
     "name": "stdout",
     "output_type": "stream",
     "text": [
      "Call Price: 255.0806979509839\n",
      "Put Price: 258.82179698236973\n"
     ]
    }
   ],
   "source": [
    "params = {\n",
    "    \"S0\": 3795.74,\n",
    "    \"K\" : 3795.74,\n",
    "    \"r\":  0.014,\n",
    "    \"q\": 0.015,\n",
    "    \"v0\": 0.0112,\n",
    "    \"lambda\": 0.1,\n",
    "    \"muJ\": -0.1,\n",
    "    \"deltaJ\": 0.2,\n",
    "    \"kappa\": 0.2183,\n",
    "    \"theta\": 0.0601,\n",
    "    \"sigma\": 0.3171,\n",
    "    \"rho\": -0.5250,\n",
    "    \"T\": 1.0\n",
    "}\n",
    "\n",
    "call,put = heston_price_call_fft_bates(params, N=10000, U_max=1000)\n",
    "print(f\"Call Price: {call}\")\n",
    "print(f\"Put Price: {put}\")"
   ]
  },
  {
   "cell_type": "code",
   "execution_count": null,
   "id": "97629191",
   "metadata": {},
   "outputs": [],
   "source": []
  }
 ],
 "metadata": {
  "kernelspec": {
   "display_name": "tf",
   "language": "python",
   "name": "python3"
  },
  "language_info": {
   "codemirror_mode": {
    "name": "ipython",
    "version": 3
   },
   "file_extension": ".py",
   "mimetype": "text/x-python",
   "name": "python",
   "nbconvert_exporter": "python",
   "pygments_lexer": "ipython3",
   "version": "3.11.11"
  }
 },
 "nbformat": 4,
 "nbformat_minor": 5
}
